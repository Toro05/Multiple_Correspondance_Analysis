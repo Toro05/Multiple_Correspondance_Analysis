{
 "cells": [
  {
   "cell_type": "code",
   "execution_count": null,
   "metadata": {},
   "outputs": [],
   "source": [
    "import prince\n",
    "import pandas as pd\n",
    "import matplotlib.pyplot as plt\n",
    "import numpy as np\n",
    "from mca import MCA\n",
    "from kmodes.kmodes import KModes # for the clustering technique\n",
    "import plotly.express as px\n",
    "import seaborn as sns\n",
    "from sklearn.feature_selection import SelectKBest, chi2 # for chi-squared feature selection\n",
    "from sklearn.preprocessing import LabelEncoder\n",
    "import seaborn as sns # for plotting boxplots\n",
    "from scipy.stats import skew # for skewness calculation"
   ]
  },
  {
   "cell_type": "code",
   "execution_count": null,
   "metadata": {},
   "outputs": [],
   "source": [
    "# Load the data\n",
    "data = pd.read_excel(\"dataset.xlsx\")\n",
    "data.drop(['Year of survey conduction.'], axis=1, inplace=True)"
   ]
  },
  {
   "cell_type": "code",
   "execution_count": null,
   "metadata": {},
   "outputs": [],
   "source": [
    "# Create a copy of the original data set\n",
    "data_num = data.copy()\n",
    "\n",
    "# Create a label encoder for each categorical column\n",
    "label_encoders = {}\n",
    "categorical_columns =  [\"Profession\", \"Would you recommend remote work?\", \"What country do you live in currently?\", \"Biggest struggle working remotely\", \"Biggest benefit working remotely\"]\n",
    "for col in categorical_columns:\n",
    "    label_encoders[col] = LabelEncoder()\n",
    "    data_num[col] = label_encoders[col].fit_transform(data_num[col])\n"
   ]
  },
  {
   "attachments": {},
   "cell_type": "markdown",
   "metadata": {},
   "source": [
    "### Outliers box plot"
   ]
  },
  {
   "cell_type": "code",
   "execution_count": null,
   "metadata": {},
   "outputs": [],
   "source": [
    "\n",
    "plt.figure(figsize=(5, 5))\n",
    "\n",
    "sns.boxplot(data=data_num, orient=\"h\", palette=\"Set2\")\n",
    "\n",
    "# Add a figure caption\n",
    "plt.suptitle('Figure 1: Box plot for outliers', fontsize=12)\n",
    "\n",
    "# Add axis labels and a title\n",
    "plt.xlabel('Variables')\n",
    "plt.ylabel('Value')\n",
    "\n",
    "plt.show()"
   ]
  },
  {
   "attachments": {},
   "cell_type": "markdown",
   "metadata": {},
   "source": [
    "### Skewness calculation\n"
   ]
  },
  {
   "cell_type": "code",
   "execution_count": null,
   "metadata": {},
   "outputs": [],
   "source": [
    "# Calculate the skewness of the column\n",
    "skewness = skew(data_num[\"Would you recommend remote work?\"])\n",
    "\n",
    "print(skewness)"
   ]
  },
  {
   "attachments": {},
   "cell_type": "markdown",
   "metadata": {},
   "source": [
    "### Minority class observation calculation bar plot"
   ]
  },
  {
   "cell_type": "code",
   "execution_count": null,
   "metadata": {},
   "outputs": [],
   "source": [
    "count_0 = {}\n",
    "data['Would you recommend remote work?'].value_counts().plot(kind='bar')\n",
    "\n",
    "plt.suptitle('Figure 3: Counting the values of each class', fontsize=12)\n",
    "plt.xlabel('Would you recommend remote work?')\n",
    "plt.ylabel('Number of observations')\n",
    "# plt.xticks(rotation=90)\n",
    "\n",
    "print(data['Would you recommend remote work?'].value_counts())\n"
   ]
  },
  {
   "attachments": {},
   "cell_type": "markdown",
   "metadata": {},
   "source": [
    "### MCA with 5 components "
   ]
  },
  {
   "cell_type": "code",
   "execution_count": null,
   "metadata": {},
   "outputs": [],
   "source": [
    "# Perform MCA with 5 components\n",
    "mca = prince.MCA(n_components=5)\n",
    "mca.fit(data)\n",
    "\n",
    "# Get the results\n",
    "results = mca.transform(data)\n",
    "\n",
    "# Print the results\n",
    "print(results)\n"
   ]
  },
  {
   "cell_type": "code",
   "execution_count": null,
   "metadata": {},
   "outputs": [],
   "source": [
    "mca.eigenvalues_, mca.total_inertia_, mca.explained_inertia_"
   ]
  },
  {
   "attachments": {},
   "cell_type": "markdown",
   "metadata": {},
   "source": [
    "# MCA Eigenvalues interpretation: \n",
    "### Based on the eigenvalues provided, the first component of the multiple correspondence analysis (MCA) explains the most variation in the data, with the remaining components explaining progressively less variation. This suggests that the first component captures the most important patterns and relationships within the data, and that the remaining components capture less important patterns. A possible interpretation of these results is that the first component represents the main underlying structure of the data, while the remaining components represent more subtle variations and nuances within the data. This suggests that the first component may be the most useful for understanding the overall structure of the data and for making general inferences about the data. The remaining components may be useful for understanding more specific aspects of the data, but they may not be as relevant for overall interpretation of the results. In summary, the eigenvalues of the MCA indicate that the first component is the most important for understanding the overall structure of the data, while the remaining components capture less important patterns and relationships within the data. This suggests that the first component should be given the most weight when interpreting the results of the MCA."
   ]
  },
  {
   "cell_type": "code",
   "execution_count": null,
   "metadata": {},
   "outputs": [],
   "source": [
    "# gain the row coordinates\n",
    "mca.row_coordinates(data)"
   ]
  },
  {
   "cell_type": "code",
   "execution_count": null,
   "metadata": {},
   "outputs": [],
   "source": [
    "# gain the column coordinates\n",
    "mca.column_coordinates(data)"
   ]
  },
  {
   "cell_type": "code",
   "execution_count": null,
   "metadata": {},
   "outputs": [],
   "source": [
    "# Get the number of dimensions in the MCA model\n",
    "n_dims = mca.n_components\n",
    "\n",
    "# Get the variable loadings for each dimension\n",
    "dimensions = mca.explained_inertia_\n",
    "\n",
    "# Print the variable loadings for all dimensions\n",
    "print('Variable loadings:')\n",
    "print(dimensions)\n",
    "\n",
    "# Interpret the dimensions in the MCA model\n",
    "print('Variable loadings')\n",
    "for i in range(n_dims):\n",
    "  print(f'Dimension {i+1}: {dimensions[i]}')"
   ]
  },
  {
   "attachments": {},
   "cell_type": "markdown",
   "metadata": {},
   "source": [
    "### Based on the results we provided, the multiple correspondence analysis (MCA) model identified five dimensions in the data. The variable loadings for each dimension indicate the strength of the association between each variable and the corresponding dimension in the MCA model.\n",
    "\n",
    "### For example, the variable loading for the first dimension is 0.015279, which indicates that there is a weak association between the first variable and the first dimension. Similarly, the variable loading for the second dimension is 0.008775, which indicates that there is a very weak association between the second variable and the second dimension.\n",
    "\n",
    "### The overall interpretation of the dimensions in the MCA model is that the first five variables in the data are weakly associated with the first five dimensions, respectively. This suggests that the first six variables are not strongly related to each other and that they contribute independently to the structure of the data.\n",
    "\n",
    "### To further understand the relationships between the variables and the dimensions in the MCA model, it would be useful to examine the row coordinates for the observations in the data. The row coordinates indicate the position of each observation in the MCA model and can be used to understand the relationships between the observations and the dimensions in the model.\n",
    "\n",
    "### To compute the row coordinates, you can use the \"row_coordinates\" method of the \"MCA\" object, which returns a Pandas DataFrame with the coordinates for each observation in the data. You can then use the \"iloc\" method of the DataFrame to select the coordinates for the first two dimensions in the MCA model and visualize the relationships between the observations and the dimensions.\n",
    "\n"
   ]
  },
  {
   "cell_type": "code",
   "execution_count": null,
   "metadata": {},
   "outputs": [],
   "source": [
    "#plot trhe results of mca on specific dimensions and variables\n",
    "mca.plot_coordinates(\n",
    " X = data,\n",
    " x_component=1,\n",
    " y_component=2,\n",
    " show_row_points=True,\n",
    "  show_row_labels=False, #Changing this into True will show the number of each observation\n",
    "   show_column_points=True,\n",
    "    show_column_labels=False, #Changing this into True will show the names of the variables\n",
    "    figsize=(10,10),\n",
    "    column_points_size=25\n",
    "    ).legend(loc='center left', bbox_to_anchor=(1, 0.5))\n",
    "plt.suptitle('Figure 4')\n",
    "plt.show()\n",
    "    \n",
    "#plot trhe results of mca on specific dimensions and variables\n",
    "mca.plot_coordinates(data,\n",
    " x_component=0,\n",
    " y_component=1,\n",
    " show_row_points=True,\n",
    "  show_row_labels=False,\n",
    "   show_column_points=True,\n",
    "    show_column_labels=False,\n",
    "    figsize=(10,10),\n",
    "    column_points_size=30\n",
    "    ).legend(loc='center left', bbox_to_anchor=(1, 0.5))\n",
    "plt.suptitle('Figure 5')    \n",
    "plt.show()\n",
    "    \n",
    "#plot trhe results of mca on specific dimensions and variables\n",
    "mca.plot_coordinates(data,\n",
    " x_component=2,\n",
    " y_component=3,\n",
    " show_row_points=True,\n",
    "  show_row_labels=False,\n",
    "   show_column_points=True,\n",
    "    show_column_labels=False,\n",
    "    figsize=(10,10),\n",
    "    column_points_size=30\n",
    "    ).legend(loc='center left', bbox_to_anchor=(1, 0.5))\n",
    "plt.suptitle('Figure 6')\n",
    "plt.show()\n",
    "\n",
    "mca.plot_coordinates(data,\n",
    " x_component=3,\n",
    " y_component=4,\n",
    " show_row_points=True,\n",
    "  show_row_labels=False,\n",
    "   show_column_points=True,\n",
    "    show_column_labels=False, #if true it will show a description of the points on the graph\n",
    "    figsize=(10,10),\n",
    "    column_points_size=30\n",
    "    ).legend(loc='center left', bbox_to_anchor=(1, 0.5))\n",
    "plt.suptitle('Figure 7')\n",
    "plt.show()"
   ]
  },
  {
   "cell_type": "code",
   "execution_count": null,
   "metadata": {},
   "outputs": [],
   "source": [
    "ax = mca.plot_coordinates(\n",
    "     X=data[[\"What country do you live in currently?\"]],\n",
    "     ax=None,\n",
    "     figsize=(10, 10),\n",
    "     x_component=1,\n",
    "     y_component=3,\n",
    "     show_row_points=False,\n",
    "     row_points_size=0,\n",
    "     show_row_labels=False,\n",
    "     show_column_points=True,\n",
    "     column_points_size=20,\n",
    "     show_column_labels=True,\n",
    " ).legend(loc='center left', bbox_to_anchor=(1, 0.5))\n",
    "\n",
    "plt.suptitle('Figure ', fontsize=12)\n",
    " #biplot in the mca for \"What country do you live in currently?\" on dimension 1 and 3"
   ]
  },
  {
   "attachments": {},
   "cell_type": "markdown",
   "metadata": {},
   "source": [
    "### Creating n number of clusters."
   ]
  },
  {
   "cell_type": "code",
   "execution_count": null,
   "metadata": {},
   "outputs": [],
   "source": [
    "# Create a KModes model with the desired number of clusters\n",
    "km = KModes(n_clusters=5,\n",
    " init= \"random\",\n",
    "  n_init=5,\n",
    "   verbose=1,\n",
    "    random_state=42)\n",
    "\n",
    "# Fit the model to the data\n",
    "km.fit(data)"
   ]
  },
  {
   "attachments": {},
   "cell_type": "markdown",
   "metadata": {},
   "source": [
    "### In the clusters_labels which is an ndarray we saved the label of each cluster aka the number of the cluster which eavery observation belongs."
   ]
  },
  {
   "cell_type": "code",
   "execution_count": null,
   "metadata": {},
   "outputs": [],
   "source": [
    "# Obtain the cluster labels for each data point\n",
    "cluster_labels = km.predict(data)"
   ]
  },
  {
   "cell_type": "code",
   "execution_count": null,
   "metadata": {},
   "outputs": [],
   "source": [
    "#from the moment we create a new column of the data (cluster) we cannot use the mca.row_coordinates(data) anymore due to dimesnion dismatch\n",
    "data[\"cluster\"] = cluster_labels\n",
    "data_num[\"cluster\"] = cluster_labels \n",
    "# cluster_data = cluster_labels\n",
    "\n",
    "# Print the cluster labels for each data point\n",
    "print(cluster_labels)"
   ]
  },
  {
   "attachments": {},
   "cell_type": "markdown",
   "metadata": {},
   "source": [
    "### Accessing the centroids of clusters."
   ]
  },
  {
   "cell_type": "code",
   "execution_count": null,
   "metadata": {},
   "outputs": [],
   "source": [
    "# Access the cluster centroids\n",
    "centroids = km.cluster_centroids_\n",
    "\n",
    "# Print the cluster centroids\n",
    "print(centroids)"
   ]
  },
  {
   "attachments": {},
   "cell_type": "markdown",
   "metadata": {},
   "source": [
    "### Iterations over clusters in order to obtain the number of observations that corresponds to each cluster."
   ]
  },
  {
   "cell_type": "code",
   "execution_count": null,
   "metadata": {},
   "outputs": [],
   "source": [
    "# Loop over the clusters\n",
    "for i in range(5):\n",
    "    # Select the data points belonging to cluster i\n",
    "    cluster_data = data[cluster_labels == i]\n",
    "\n",
    "    # Print the number of data points in cluster i\n",
    "    print(f'Cluster {i} has {cluster_data.shape[0]} data points')\n"
   ]
  },
  {
   "cell_type": "code",
   "execution_count": null,
   "metadata": {},
   "outputs": [],
   "source": [
    "# Group the data by the cluster column\n",
    "groups = data.groupby('cluster')\n",
    "\n",
    "# Iterate over the groups and create a new data frame for each group\n",
    "for name, group in groups:\n",
    "  # Create a new data frame for the current group\n",
    "  cluster_df = pd.DataFrame(group)\n",
    "\n",
    "  # Assign the data frame to a variable with a name that corresponds to the cluster number\n",
    "  globals()[f'cluster_{name}'] = cluster_df"
   ]
  },
  {
   "cell_type": "code",
   "execution_count": null,
   "metadata": {},
   "outputs": [],
   "source": [
    "# Assume that you have the x and y variables stored in variables \"x\" and \"y\", respectively, and the cluster membership stored in a variable \"clusters\"\n",
    "x = data['Profession']\n",
    "y = data['cluster']\n",
    "\n",
    "# Set the figure size\n",
    "plt.figure(figsize=(15, 5))\n",
    "\n",
    "# Create a scatter plot\n",
    "plt.scatter(x, y, c=data['cluster'], cmap='rainbow')\n",
    "\n",
    "# Add a color bar to show the cluster membership\n",
    "plt.colorbar()\n",
    "\n",
    "# Set the position of the x ticks\n",
    "plt.xticks(rotation=90)\n",
    "\n",
    "# Add axis labels and a title\n",
    "plt.xlabel('Profession')\n",
    "plt.ylabel('Cluster')\n",
    "plt.suptitle('Figure 8 : Scatter Plot of Variables based on Cluster Membership', fontsize=12)\n",
    "\n",
    "# Show the plot\n",
    "plt.show()"
   ]
  },
  {
   "attachments": {},
   "cell_type": "markdown",
   "metadata": {},
   "source": [
    "### Heatmap in order to obtain the correlation between the variables and the unique levels  "
   ]
  },
  {
   "cell_type": "code",
   "execution_count": null,
   "metadata": {},
   "outputs": [],
   "source": [
    "# Extract the unique values from the data\n",
    "values = data.apply(pd.Series.unique)\n",
    "\n",
    "# Create a categorical color map\n",
    "cmap = sns.color_palette(\"tab20\", n_colors=len(values))\n",
    "\n",
    "plt.figure(figsize=(15, 10))\n",
    "\n",
    "\n",
    "# Create a heatmap\n",
    "sns.heatmap(data_num)\n",
    "\n",
    "# Show the plot\n",
    "plt.show()"
   ]
  },
  {
   "attachments": {},
   "cell_type": "markdown",
   "metadata": {},
   "source": [
    "### Corrplot between the variables to obtain the correlation between the variables "
   ]
  },
  {
   "cell_type": "code",
   "execution_count": null,
   "metadata": {},
   "outputs": [],
   "source": [
    "# Compute the correlations between the variables\n",
    "corr = data_num.corr()\n",
    "\n",
    "# Add a figure caption\n",
    "plt.suptitle('Figure 2: Heat map for obtaining the correlation between the variables', fontsize=12)\n",
    "\n",
    "# Create a heatmap of the correlations\n",
    "sns.heatmap(corr)\n",
    "\n",
    "# Show the plot\n",
    "plt.show()"
   ]
  },
  {
   "cell_type": "code",
   "execution_count": null,
   "metadata": {},
   "outputs": [],
   "source": [
    "cluster_counts = {}\n",
    "\n",
    "for label in cluster_labels:\n",
    "    if label in cluster_counts:\n",
    "        cluster_counts[label] += 1\n",
    "    else:\n",
    "        cluster_counts[label] = 1\n",
    "\n",
    "# Assume that `clusters` is a list or array containing the cluster labels for each data point\n",
    "# and `cluster_counts` is a dictionary mapping each cluster label to the number of data points in that cluster\n",
    "cluster_labels, cluster_counts = zip(*cluster_counts.items())\n",
    "\n",
    "# Create a bar chart\n",
    "plt.bar(cluster_labels, cluster_counts)\n",
    "\n",
    "# Add axis labels and a title\n",
    "plt.xlabel('Cluster')\n",
    "plt.ylabel('Count')\n",
    "plt.title('Number of Data Points in Each Cluster')\n",
    "\n",
    "# Show the plot\n",
    "plt.show()\n"
   ]
  },
  {
   "cell_type": "code",
   "execution_count": null,
   "metadata": {},
   "outputs": [],
   "source": [
    "# Print the most common values for each attribute in cluster i\n",
    "for j in range(data.shape[1]):\n",
    "        # Compute the mode of the j-th attribute in cluster i\n",
    "        attr_mode = cluster_data.iloc[:, j].mode()\n",
    "\n",
    "        # Print the most common value for the j-th attribute\n",
    "        print(f' - Attribute {j} has mode {attr_mode}')"
   ]
  },
  {
   "attachments": {},
   "cell_type": "markdown",
   "metadata": {},
   "source": [
    "### Evaluating the scores of the levels of each variable in an importance plot."
   ]
  },
  {
   "cell_type": "code",
   "execution_count": null,
   "metadata": {},
   "outputs": [],
   "source": [
    "#creating a new data set with dummy variables of the original data set\n",
    "data_2 = pd.get_dummies(data)\n",
    "\n",
    "x2 = data_2.drop(columns= ['Would you recommend remote work?', \"cluster\"], axis=1) # input categorical features, we can exclude the variable cluster but not sure yet \n",
    "y2 = data_2['Would you recommend remote work?'] # target variable\n",
    "\n",
    "# categorical feature selection\n",
    "sf = SelectKBest(chi2, k=\"all\")\n",
    "sf_fit = sf.fit(x2, y2)\n",
    "# # print feature scores\n",
    "# for i in range(len(sf_fit.scores_)):\n",
    "#     print(' %s: %f' % (x2.columns[i], sf_fit.scores_[i]))\n",
    "    \n",
    "data_3 = pd.DataFrame()\n",
    "data_3['feature'] = x2.columns\n",
    "data_3['scores'] = sf_fit.scores_\n",
    "datset = data_3.sort_values(by='scores', ascending=False)\n",
    "\n",
    "plt.figure(figsize=(10, 10))\n",
    "\n",
    "# plot the scores\n",
    "sns.barplot(x=datset['scores'][0:40], y=datset['feature'][0:30], color='green')\n",
    "sns.set_style('whitegrid')\n",
    "plt.suptitle('Figure 9: Bar plot with categorical feature scores', fontsize=18)\n",
    "plt.ylabel('Categorical Feature', fontsize=18)\n",
    "plt.xlabel('Score', fontsize=18)\n",
    "plt.show()"
   ]
  },
  {
   "attachments": {},
   "cell_type": "markdown",
   "metadata": {},
   "source": [
    "### Even though the interpretabilty of the plot below is difficult to coprehend it helps to understand the complexity of the connection between the variables and their levels with respect of the cluster they belong to.\n"
   ]
  },
  {
   "cell_type": "code",
   "execution_count": null,
   "metadata": {},
   "outputs": [],
   "source": [
    "# Create a parallel coordinates plot\n",
    "fig = px.parallel_coordinates(data_num, dimensions=[\"Profession\",\n",
    " \"Would you recommend remote work?\",\n",
    " \"What country do you live in currently?\",\n",
    "  \"Biggest struggle working remotely\",\n",
    "   \"Biggest benefit working remotely\"],color=\"cluster\")\n",
    "\n",
    "# Display the plot\n",
    "fig.show()\n"
   ]
  }
 ],
 "metadata": {
  "kernelspec": {
   "display_name": "pythonakias",
   "language": "python",
   "name": "python3"
  },
  "language_info": {
   "codemirror_mode": {
    "name": "ipython",
    "version": 3
   },
   "file_extension": ".py",
   "mimetype": "text/x-python",
   "name": "python",
   "nbconvert_exporter": "python",
   "pygments_lexer": "ipython3",
   "version": "3.9.13 (main, Oct 13 2022, 16:12:30) \n[Clang 12.0.0 ]"
  },
  "orig_nbformat": 4,
  "vscode": {
   "interpreter": {
    "hash": "8be4d323bd1642a33a7aade9e075801ebddb828f9aa60a7027481158ff766540"
   }
  }
 },
 "nbformat": 4,
 "nbformat_minor": 2
}
